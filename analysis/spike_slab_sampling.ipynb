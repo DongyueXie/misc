{
 "cells": [
  {
   "attachments": {},
   "cell_type": "markdown",
   "metadata": {},
   "source": [
    "In the model \n",
    "$$y\\sim N(X\\beta,\\sigma^2I)$$\n",
    "$$\\beta|\\gamma\\sim N(0,D_\\gamma)$$\n",
    "where $$D_\\gamma = diag((1-\\gamma_j)\\sigma_0^2 + \\gamma_j\\sigma^2_1)$$\n",
    "$$p(\\gamma_j = 1) = \\pi_1$$\n",
    "$$\\sigma^2\\sim IG(a,b)$$"
   ]
  },
  {
   "attachments": {},
   "cell_type": "markdown",
   "metadata": {},
   "source": [
    "The SSVS iteratively samples:\n",
    "\n",
    "1. \n",
    "$$\\beta\\sim N(\\frac{A}{\\sigma^2} X^T y, A)$$ \n",
    "where \n",
    "$$A = (X^TX/\\sigma^2 + D_\\gamma^{-1})^{-1}$$\n",
    "\n",
    "2. $$\\sigma^2\\sim IG(n/2 + a, ||y-X\\beta||^2/2 + b)$$\n",
    "\n",
    "3. $$p(\\gamma_j = 1) = \\frac{p_1}{p_0+p_1}$$\n",
    " where \n",
    "\n",
    " $$p_1 = \\pi_1 p(\\beta|\\gamma_j=1,\\gamma_{-j})$$\n",
    " $$p_0 = \\pi_0 p(\\beta|\\gamma_j=0,\\gamma_{-j})$$\n",
    "\n"
   ]
  },
  {
   "cell_type": "markdown",
   "metadata": {},
   "source": []
  },
  {
   "cell_type": "code",
   "execution_count": 127,
   "metadata": {},
   "outputs": [],
   "source": [
    "import numpy as np\n",
    "from scipy.stats import invgamma  \n",
    "from scipy.stats import multivariate_normal\n",
    "from scipy.stats import bernoulli\n",
    "import pandas as pd\n",
    "def ssvs(X,y,pi0,var0,var1,ig_a=0.01,ig_b=0.01,n_burnin=500,n_post=10000,printevery = 10):\n",
    "    n,p = X.shape\n",
    "    XtX = np.dot(X.T,X)\n",
    "    Xty = np.dot(X.T,y)\n",
    "    beta_draws = np.zeros((n_burnin + n_post,p))\n",
    "    gamma_draws = np.zeros((n_burnin + n_post,p))\n",
    "    sigma2_draws = np.zeros(n_burnin + n_post)\n",
    "    gamma = np.zeros(p)\n",
    "    y = np.squeeze(y)\n",
    "    sigma2 = np.var(y)\n",
    "    \n",
    "    for i in range(n_burnin + n_post):\n",
    "        if(i%printevery==0):\n",
    "            print(' '.join(['drawing sample',str(i)]))\n",
    "        # sample beta\n",
    "        d_inv = 1/(gamma*var1 + (1-gamma)*var0)\n",
    "        A = np.linalg.inv(XtX/sigma2 + np.diag(d_inv))\n",
    "        beta = np.random.multivariate_normal(np.squeeze(np.matmul(A/sigma2,Xty)),A)\n",
    "        sigma2 = invgamma.rvs(1,n/2+ig_a,sum((y-np.matmul(X,beta))**2)/2+ig_b)\n",
    "        for j in range(p):\n",
    "            d1 = (gamma*var1 + (1-gamma)*var0)\n",
    "            d1[j] = var1\n",
    "            d0 = (gamma*var1 + (1-gamma)*var0)\n",
    "            d0[j] = var0\n",
    "            p1 = (1-pi0) * multivariate_normal.pdf(beta, mean=np.zeros(p), cov=np.diag(d1))\n",
    "            p0 = pi0 * multivariate_normal.pdf(beta, mean=np.zeros(p), cov=np.diag(d0))\n",
    "            gamma[j] = bernoulli.rvs(p1/(p1+p0), size=1)\n",
    "        beta_draws[i,:] = beta\n",
    "        gamma_draws[i,:] = gamma\n",
    "        sigma2_draws[i] = sigma2\n",
    "    return {'beta':beta_draws[n_burnin:,:],'gamma':gamma_draws[n_burnin:,:],'sigma2':sigma2_draws[n_burnin:]}\n",
    "        \n"
   ]
  },
  {
   "cell_type": "code",
   "execution_count": 128,
   "metadata": {},
   "outputs": [],
   "source": [
    "def gen_data(n,p,pi0,var0,var1,sigma2,XI = True):\n",
    "    beta0 = np.random.normal(0,np.sqrt(var0),p)\n",
    "    beta1 = np.random.normal(0,np.sqrt(var1),p)\n",
    "    gamma = bernoulli.rvs(1-pi0, size=p)\n",
    "    beta = beta1 * gamma + (1-gamma) * beta0\n",
    "    if XI:\n",
    "        y = beta + np.random.normal(0,np.sqrt(sigma2),p)\n",
    "        return {'beta':beta,'y':y,'X':np.diag(np.ones(p)),'gamma':gamma}\n",
    "    else:\n",
    "        X = np.random.normal(size=(n,p))\n",
    "        beta = np.reshape(beta,(p,1))\n",
    "        y = np.matmul(X,beta) + np.reshape(np.random.normal(0,np.sqrt(sigma2),n),(n,1))\n",
    "        return {'beta':beta,'y':y,'X':X,'gamma':gamma}"
   ]
  },
  {
   "cell_type": "code",
   "execution_count": 131,
   "metadata": {},
   "outputs": [
    {
     "data": {
      "text/plain": [
       "array([-0.02022971, -0.05262649,  2.16381827,  0.06471874,  1.45040414,\n",
       "       -0.23270781, -0.09633481,  0.26639295,  4.5215936 ,  0.03435869])"
      ]
     },
     "execution_count": 131,
     "metadata": {},
     "output_type": "execute_result"
    }
   ],
   "source": [
    "datax = gen_data(100,10,0.5,0.01,5,1,XI=False)"
   ]
  },
  {
   "cell_type": "code",
   "execution_count": 119,
   "metadata": {},
   "outputs": [
    {
     "name": "stdout",
     "output_type": "stream",
     "text": [
      "drawing sample 0\n",
      "drawing sample 100\n",
      "drawing sample 200\n",
      "drawing sample 300\n",
      "drawing sample 400\n",
      "drawing sample 500\n",
      "drawing sample 600\n",
      "drawing sample 700\n",
      "drawing sample 800\n",
      "drawing sample 900\n",
      "drawing sample 1000\n",
      "drawing sample 1100\n",
      "drawing sample 1200\n",
      "drawing sample 1300\n",
      "drawing sample 1400\n",
      "drawing sample 1500\n",
      "drawing sample 1600\n",
      "drawing sample 1700\n",
      "drawing sample 1800\n",
      "drawing sample 1900\n",
      "drawing sample 2000\n",
      "drawing sample 2100\n",
      "drawing sample 2200\n",
      "drawing sample 2300\n",
      "drawing sample 2400\n",
      "drawing sample 2500\n",
      "drawing sample 2600\n",
      "drawing sample 2700\n",
      "drawing sample 2800\n",
      "drawing sample 2900\n"
     ]
    }
   ],
   "source": [
    "fit = ssvs(datax['X'],datax['y'],0.5,0.01,5,\n",
    "ig_a=0.01,ig_b=0.01,n_burnin=1000,\n",
    "n_post=2000,\n",
    "printevery = 100)"
   ]
  },
  {
   "cell_type": "code",
   "execution_count": 132,
   "metadata": {},
   "outputs": [
    {
     "data": {
      "text/html": [
       "<div>\n",
       "<style scoped>\n",
       "    .dataframe tbody tr th:only-of-type {\n",
       "        vertical-align: middle;\n",
       "    }\n",
       "\n",
       "    .dataframe tbody tr th {\n",
       "        vertical-align: top;\n",
       "    }\n",
       "\n",
       "    .dataframe thead th {\n",
       "        text-align: right;\n",
       "    }\n",
       "</style>\n",
       "<table border=\"1\" class=\"dataframe\">\n",
       "  <thead>\n",
       "    <tr style=\"text-align: right;\">\n",
       "      <th></th>\n",
       "      <th>true_beta</th>\n",
       "      <th>ols</th>\n",
       "      <th>posterior_mean</th>\n",
       "      <th>lower</th>\n",
       "      <th>upper</th>\n",
       "    </tr>\n",
       "  </thead>\n",
       "  <tbody>\n",
       "    <tr>\n",
       "      <th>0</th>\n",
       "      <td>0.134602</td>\n",
       "      <td>-0.020230</td>\n",
       "      <td>-0.132063</td>\n",
       "      <td>-3.702432</td>\n",
       "      <td>3.225506</td>\n",
       "    </tr>\n",
       "    <tr>\n",
       "      <th>1</th>\n",
       "      <td>-0.055601</td>\n",
       "      <td>-0.052626</td>\n",
       "      <td>-0.057410</td>\n",
       "      <td>-3.195973</td>\n",
       "      <td>2.924375</td>\n",
       "    </tr>\n",
       "    <tr>\n",
       "      <th>2</th>\n",
       "      <td>2.150908</td>\n",
       "      <td>2.163818</td>\n",
       "      <td>0.027142</td>\n",
       "      <td>-3.261504</td>\n",
       "      <td>3.228945</td>\n",
       "    </tr>\n",
       "    <tr>\n",
       "      <th>3</th>\n",
       "      <td>0.010992</td>\n",
       "      <td>0.064719</td>\n",
       "      <td>-0.010777</td>\n",
       "      <td>-3.420915</td>\n",
       "      <td>3.189246</td>\n",
       "    </tr>\n",
       "    <tr>\n",
       "      <th>4</th>\n",
       "      <td>1.424295</td>\n",
       "      <td>1.450404</td>\n",
       "      <td>0.011625</td>\n",
       "      <td>-3.058356</td>\n",
       "      <td>3.155593</td>\n",
       "    </tr>\n",
       "    <tr>\n",
       "      <th>5</th>\n",
       "      <td>-0.074215</td>\n",
       "      <td>-0.232708</td>\n",
       "      <td>0.259813</td>\n",
       "      <td>-2.623448</td>\n",
       "      <td>3.757211</td>\n",
       "    </tr>\n",
       "    <tr>\n",
       "      <th>6</th>\n",
       "      <td>0.054716</td>\n",
       "      <td>-0.096335</td>\n",
       "      <td>0.066065</td>\n",
       "      <td>-3.094691</td>\n",
       "      <td>3.313081</td>\n",
       "    </tr>\n",
       "    <tr>\n",
       "      <th>7</th>\n",
       "      <td>0.175528</td>\n",
       "      <td>0.266393</td>\n",
       "      <td>-0.061471</td>\n",
       "      <td>-3.253490</td>\n",
       "      <td>3.183751</td>\n",
       "    </tr>\n",
       "    <tr>\n",
       "      <th>8</th>\n",
       "      <td>4.443326</td>\n",
       "      <td>4.521594</td>\n",
       "      <td>-0.558580</td>\n",
       "      <td>-4.445580</td>\n",
       "      <td>2.868801</td>\n",
       "    </tr>\n",
       "    <tr>\n",
       "      <th>9</th>\n",
       "      <td>-0.090402</td>\n",
       "      <td>0.034359</td>\n",
       "      <td>0.008629</td>\n",
       "      <td>-3.363321</td>\n",
       "      <td>3.311434</td>\n",
       "    </tr>\n",
       "  </tbody>\n",
       "</table>\n",
       "</div>"
      ],
      "text/plain": [
       "   true_beta       ols  posterior_mean     lower     upper\n",
       "0   0.134602 -0.020230       -0.132063 -3.702432  3.225506\n",
       "1  -0.055601 -0.052626       -0.057410 -3.195973  2.924375\n",
       "2   2.150908  2.163818        0.027142 -3.261504  3.228945\n",
       "3   0.010992  0.064719       -0.010777 -3.420915  3.189246\n",
       "4   1.424295  1.450404        0.011625 -3.058356  3.155593\n",
       "5  -0.074215 -0.232708        0.259813 -2.623448  3.757211\n",
       "6   0.054716 -0.096335        0.066065 -3.094691  3.313081\n",
       "7   0.175528  0.266393       -0.061471 -3.253490  3.183751\n",
       "8   4.443326  4.521594       -0.558580 -4.445580  2.868801\n",
       "9  -0.090402  0.034359        0.008629 -3.363321  3.311434"
      ]
     },
     "execution_count": 132,
     "metadata": {},
     "output_type": "execute_result"
    }
   ],
   "source": [
    "upper_ci = np.apply_along_axis(np.quantile,0,fit,q=0.975)\n",
    "lower_ci = np.apply_along_axis(np.quantile,0,fit,q=0.025)\n",
    "pm = np.apply_along_axis(np.mean,0,fit)\n",
    "res = pd.DataFrame({'true_beta':np.squeeze(datax['beta']),\n",
    "'ols': np.squeeze(np.matmul(np.linalg.inv(np.matmul(datax['X'].T,datax['X'])),np.matmul(datax['X'].T,datax['y']))),\n",
    "'posterior_mean':pm,\n",
    "'lower':lower_ci,\n",
    "'upper':upper_ci})\n",
    "res"
   ]
  },
  {
   "cell_type": "code",
   "execution_count": null,
   "metadata": {},
   "outputs": [],
   "source": []
  }
 ],
 "metadata": {
  "kernelspec": {
   "display_name": "Python 3",
   "language": "python",
   "name": "python3"
  },
  "language_info": {
   "codemirror_mode": {
    "name": "ipython",
    "version": 3
   },
   "file_extension": ".py",
   "mimetype": "text/x-python",
   "name": "python",
   "nbconvert_exporter": "python",
   "pygments_lexer": "ipython3",
   "version": "3.10.6"
  },
  "orig_nbformat": 4,
  "vscode": {
   "interpreter": {
    "hash": "916dbcbb3f70747c44a77c7bcd40155683ae19c65e1c03b4aa3499c5328201f1"
   }
  }
 },
 "nbformat": 4,
 "nbformat_minor": 2
}
